{
 "cells": [
  {
   "cell_type": "markdown",
   "metadata": {},
   "source": [
    "# Working with Planet Data in Python"
   ]
  },
  {
   "cell_type": "markdown",
   "metadata": {},
   "source": [
    "In this notebook we'll use the planet and stactools libraries to perform the following:\n",
    "- Search for PlanetScope scenes\n",
    "- Download orders from PlanetScope scenes for visual and analytic products\n",
    "- Convert those orders into STACs\n",
    "- Merge STACs from different orders\n",
    "- Modify the layout of STACs based on item properties.\n",
    "\n",
    "You'll need the `planet python client <https://planetlabs.github.io/planet-client-python/cli/index.html>`_ installed, as well as the ``stactools-planet`` stactools subpackage.\n",
    "\n",
    "You'll also need an account with access to the orders API.\n",
    "This tutorial will use data that is available in the [Developer Trial Program](https://developers.planet.com/devtrial), so sign up there if you don't already have an account - and let them know you are creating STACs!\n",
    "\n",
    "First we'll set up some of the directories that we'll be using:"
   ]
  },
  {
   "cell_type": "code",
   "execution_count": 9,
   "metadata": {},
   "outputs": [],
   "source": [
    "import os"
   ]
  },
  {
   "cell_type": "code",
   "execution_count": 10,
   "metadata": {},
   "outputs": [],
   "source": [
    "DATA_DIR = '/opt/src'\n",
    "DOWNLOAD_DIR = os.path.join(DATA_DIR, 'order-downloads')\n",
    "STAC_DIR = os.path.join(DATA_DIR, 'planet-stacs-2')"
   ]
  },
  {
   "cell_type": "code",
   "execution_count": 11,
   "metadata": {},
   "outputs": [],
   "source": [
    "VISUAL_ORDER_DIR = os.path.join(DOWNLOAD_DIR, 'visual')\n",
    "if not os.path.isdir(VISUAL_ORDER_DIR):\n",
    "    os.makedirs(VISUAL_ORDER_DIR)"
   ]
  },
  {
   "cell_type": "code",
   "execution_count": 12,
   "metadata": {},
   "outputs": [],
   "source": [
    "ANALYTIC_ORDER_DIR = os.path.join(DOWNLOAD_DIR, 'analytic')\n",
    "if not os.path.isdir(ANALYTIC_ORDER_DIR):\n",
    "    os.makedirs(ANALYTIC_ORDER_DIR)"
   ]
  },
  {
   "cell_type": "code",
   "execution_count": 5,
   "metadata": {},
   "outputs": [],
   "source": [
    "TIMERANGE_ORDER_DIR = os.path.join(DOWNLOAD_DIR, 'range')\n",
    "if not os.path.isdir(TIMERANGE_ORDER_DIR):\n",
    "    os.makedirs(TIMERANGE_ORDER_DIR)"
   ]
  },
  {
   "cell_type": "markdown",
   "metadata": {},
   "source": [
    "## Ordering from Planet's Orders API\n",
    "\n",
    "We'll fetch some data over southern Myanmar using the planet client's search:"
   ]
  },
  {
   "cell_type": "code",
   "execution_count": 14,
   "metadata": {},
   "outputs": [],
   "source": [
    "from planet import api\n",
    "from planet.api import filters\n",
    "\n",
    "client = api.ClientV1()"
   ]
  },
  {
   "cell_type": "code",
   "execution_count": 17,
   "metadata": {},
   "outputs": [],
   "source": [
    "aoi = {\n",
    "  \"type\": \"Polygon\",\n",
    "  \"coordinates\": [\n",
    "          [\n",
    "            [\n",
    "              95.18348693847656,\n",
    "              15.792914297218834\n",
    "            ],\n",
    "            [\n",
    "              95.36613464355469,\n",
    "              15.792914297218834\n",
    "            ],\n",
    "            [\n",
    "              95.36613464355469,\n",
    "              15.983113625840078\n",
    "            ],\n",
    "            [\n",
    "              95.18348693847656,\n",
    "              15.983113625840078\n",
    "            ],\n",
    "            [\n",
    "              95.18348693847656,\n",
    "              15.792914297218834\n",
    "            ]\n",
    "          ]\n",
    "        ]\n",
    "}\n"
   ]
  },
  {
   "cell_type": "code",
   "execution_count": 18,
   "metadata": {},
   "outputs": [],
   "source": [
    "query = filters.and_filter(\n",
    "    filters.geom_filter(aoi),\n",
    "    filters.range_filter('cloud_cover', gt=0.01),\n",
    "    filters.range_filter('cloud_cover', lt=0.3),\n",
    "    filters.date_range('acquired', gt='2019-01-01'),\n",
    "    filters.date_range('acquired', lt='2019-01-13')\n",
    ")\n",
    "\n",
    "request = filters.build_search_request(\n",
    "    query, item_types=['PSScene3Band']\n",
    ")"
   ]
  },
  {
   "cell_type": "code",
   "execution_count": 19,
   "metadata": {},
   "outputs": [],
   "source": [
    "result = client.quick_search(request)"
   ]
  },
  {
   "cell_type": "code",
   "execution_count": 20,
   "metadata": {},
   "outputs": [],
   "source": [
    "items = [i for i in result.items_iter(limit=None)]"
   ]
  },
  {
   "cell_type": "code",
   "execution_count": 21,
   "metadata": {},
   "outputs": [
    {
     "data": {
      "text/plain": [
       "8"
      ]
     },
     "execution_count": 21,
     "metadata": {},
     "output_type": "execute_result"
    }
   ],
   "source": [
    "len(items)"
   ]
  },
  {
   "cell_type": "markdown",
   "metadata": {},
   "source": [
    "We have 8 items from this search. We'll grab the IDs from them to use in our order.\n"
   ]
  },
  {
   "cell_type": "code",
   "execution_count": 22,
   "metadata": {},
   "outputs": [
    {
     "data": {
      "text/plain": [
       "['20190111_034458_0f3f',\n",
       " '20190111_034459_0f3f',\n",
       " '20190111_034457_0f3f',\n",
       " '20190111_033800_0f46',\n",
       " '20190111_033759_0f46',\n",
       " '20190109_034416_103d',\n",
       " '20190109_034415_103d',\n",
       " '20190109_034414_103d']"
      ]
     },
     "execution_count": 22,
     "metadata": {},
     "output_type": "execute_result"
    }
   ],
   "source": [
    "ids = [i['id'] for i in items]\n",
    "ids"
   ]
  },
  {
   "cell_type": "markdown",
   "metadata": {},
   "source": [
    "### Ordering visual products\n",
    "\n",
    "Now we'll use the planet client's order functionality to generate an order for the PSScene3Band visual product bundles for those items:"
   ]
  },
  {
   "cell_type": "code",
   "execution_count": 23,
   "metadata": {},
   "outputs": [
    {
     "data": {
      "text/plain": [
       "{'name': 'My order - visual cogs',\n",
       " 'products': [{'item_ids': ['20190111_034458_0f3f',\n",
       "    '20190111_034459_0f3f',\n",
       "    '20190111_034457_0f3f',\n",
       "    '20190111_033800_0f46',\n",
       "    '20190111_033759_0f46',\n",
       "    '20190109_034416_103d',\n",
       "    '20190109_034415_103d',\n",
       "    '20190109_034414_103d'],\n",
       "   'item_type': 'PSScene3Band',\n",
       "   'product_bundle': 'visual'}],\n",
       " 'tools': [{'file_format': {'format': 'COG'}}],\n",
       " 'delivery': {'single_archive': True},\n",
       " 'notifications': {'email': True}}"
      ]
     },
     "execution_count": 23,
     "metadata": {},
     "output_type": "execute_result"
    }
   ],
   "source": [
    "order_request = {\n",
    "    'name': 'My order - visual cogs',\n",
    "    'products': [\n",
    "        {\n",
    "            'item_ids': ids,\n",
    "            'item_type': 'PSScene3Band',\n",
    "            'product_bundle': 'visual'\n",
    "        }\n",
    "    ],\n",
    "    'tools': [\n",
    "        {\n",
    "          'file_format': {\n",
    "            'format': 'COG'\n",
    "          }\n",
    "        }\n",
    "      ],\n",
    "    'delivery': { 'single_archive': True },\n",
    "    'notifications': { 'email': True }\n",
    "}\n",
    "\n",
    "order_request"
   ]
  },
  {
   "cell_type": "code",
   "execution_count": 24,
   "metadata": {
    "scrolled": true
   },
   "outputs": [],
   "source": [
    "order = client.create_order(order_request)\n",
    "order_id = order.get()['id']"
   ]
  },
  {
   "cell_type": "markdown",
   "metadata": {},
   "source": [
    "You can check your order state with the next cell. You should get an email when it's ready, and when it is this should show `success`."
   ]
  },
  {
   "cell_type": "code",
   "execution_count": 28,
   "metadata": {},
   "outputs": [
    {
     "data": {
      "text/plain": [
       "['success']"
      ]
     },
     "execution_count": 28,
     "metadata": {},
     "output_type": "execute_result"
    }
   ],
   "source": [
    "[order['state'] \n",
    " for order in client.get_orders().get()['orders'] \n",
    " if order['id'] == order_id]"
   ]
  },
  {
   "cell_type": "markdown",
   "metadata": {},
   "source": [
    "Once the order has succeeded we can download it:"
   ]
  },
  {
   "cell_type": "code",
   "execution_count": 29,
   "metadata": {},
   "outputs": [],
   "source": [
    "processed_order = client.get_individual_order(order_id)"
   ]
  },
  {
   "cell_type": "code",
   "execution_count": 32,
   "metadata": {},
   "outputs": [],
   "source": [
    "def download_order(order, target_dir):\n",
    "    for result in order.get_results():\n",
    "        fname = os.path.basename(result['name'])\n",
    "        # We only want the zipped order\n",
    "        if fname.endswith('.zip'):\n",
    "            output_path = os.path.join(target_dir, fname)\n",
    "            location = result['location']\n",
    "            print('Downloading {}'.format(fname))\n",
    "            !wget -O $output_path $location\n",
    "            !unzip -o -d $target_dir $output_path"
   ]
  },
  {
   "cell_type": "code",
   "execution_count": 33,
   "metadata": {},
   "outputs": [
    {
     "name": "stdout",
     "output_type": "stream",
     "text": [
      "Downloading output.zip\n",
      "--2020-10-30 23:56:12--  https://api.planet.com/compute/ops/download/?token=eyJhbGciOiJIUzUxMiIsInR5cCI6IkpXVCJ9.eyJleHAiOjE2MDQxODgyMTgsInN1YiI6InQzajltRHdKeHBwT010cXBtQmliUkFiaWJNbm5uVnFGdmVPSVhjblVDSnhtVGsySnVxSHJXaWJDd0YvRy9RblcycHViUkxvZ0R5d2tHSi8xRnR2VllnPT0iLCJ0b2tlbl90eXBlIjoiZG93bmxvYWQtYXNzZXQtc3RhY2siLCJhb2kiOiIiLCJhc3NldHMiOlt7Iml0ZW1fdHlwZSI6IiIsImFzc2V0X3R5cGUiOiIiLCJpdGVtX2lkIjoiIn1dLCJ1cmwiOiJodHRwczovL3N0b3JhZ2UuZ29vZ2xlYXBpcy5jb20vY29tcHV0ZS1vcmRlcnMtbGl2ZS8xN2Q2OGJhMC05YjFhLTQzMDktYTI0Zi01MGNlNWEwMDQzYjIvb3V0cHV0LnppcD9FeHBpcmVzPTE2MDQxODgyMThcdTAwMjZHb29nbGVBY2Nlc3NJZD1jb21wdXRlLWdjcy1zdmNhY2MlNDBwbGFuZXQtY29tcHV0ZS1wcm9kLmlhbS5nc2VydmljZWFjY291bnQuY29tXHUwMDI2U2lnbmF0dXJlPWY1dzdidW4lMkZTdDdBemhKQ2l0VVdYY0N6MUc0YmVrRWxQanp3bVdvTXR0TUlBMFd6ZVRPQ0xwJTJCcWFRdkJDWnhDbkVGWktYMnVnY3pQeVFzaGFOaW9zJTJCQzBLV3pwViUyQndHWXpjOG9SQlJ0RG43SUtlZW5BaElFNEI1YngxdFElMkJaUnZVT3A0QkNDYlFBMW9ITnNTUFIwb0hwelJzZyUyRk9iTTgyWjBnSzNKS2g3R3J5akRsM0wwbWNnY3drWXh0bzJlZUdmVnB6QjB2aUdodFgwSnF5Wm9JZEVRZmtpRk93NFpWOFBoZThUeTBvZlF2YlJXZlBaaDNQQTBudEFORjZCb2wlMkI3d3JIbDdNdnk2MWdCdjA4R2FyYzlDWVFWNyUyRlpvaFFJeGFqWWx5OXB1U2s2dEhiVkolMkJMcnRsaWk4VUdjS3NDNHBlN1JlbzhhcVJ5NDEwYXYlMkZpZUpBJTNEJTNEIiwic291cmNlIjoiT3JkZXJzIFNlcnZpY2UifQ.BpjtdjdQbG8T2uz_fk3QVqt0Ds80zUQz7XIaXvuGOikZ7a91NrUNSXveVdKs-bRuZTE6BVO-thsTyrUzCKxjAg\n",
      "Resolving api.planet.com (api.planet.com)... 35.190.57.55\n",
      "Connecting to api.planet.com (api.planet.com)|35.190.57.55|:443... connected.\n",
      "HTTP request sent, awaiting response... 302 Found\n",
      "Location: https://link.planet.com/orders/v2/download?token=eyJhbGciOiJIUzUxMiIsInR5cCI6IkpXVCJ9.eyJleHAiOjE2MDQxODgyMTgsInN1YiI6InQzajltRHdKeHBwT010cXBtQmliUkFiaWJNbm5uVnFGdmVPSVhjblVDSnhtVGsySnVxSHJXaWJDd0YvRy9RblcycHViUkxvZ0R5d2tHSi8xRnR2VllnPT0iLCJ0b2tlbl90eXBlIjoiZG93bmxvYWQtYXNzZXQtc3RhY2siLCJhb2kiOiIiLCJhc3NldHMiOlt7Iml0ZW1fdHlwZSI6IiIsImFzc2V0X3R5cGUiOiIiLCJpdGVtX2lkIjoiIn1dLCJ1cmwiOiJodHRwczovL3N0b3JhZ2UuZ29vZ2xlYXBpcy5jb20vY29tcHV0ZS1vcmRlcnMtbGl2ZS8xN2Q2OGJhMC05YjFhLTQzMDktYTI0Zi01MGNlNWEwMDQzYjIvb3V0cHV0LnppcD9FeHBpcmVzPTE2MDQxODgyMThcdTAwMjZHb29nbGVBY2Nlc3NJZD1jb21wdXRlLWdjcy1zdmNhY2MlNDBwbGFuZXQtY29tcHV0ZS1wcm9kLmlhbS5nc2VydmljZWFjY291bnQuY29tXHUwMDI2U2lnbmF0dXJlPWY1dzdidW4lMkZTdDdBemhKQ2l0VVdYY0N6MUc0YmVrRWxQanp3bVdvTXR0TUlBMFd6ZVRPQ0xwJTJCcWFRdkJDWnhDbkVGWktYMnVnY3pQeVFzaGFOaW9zJTJCQzBLV3pwViUyQndHWXpjOG9SQlJ0RG43SUtlZW5BaElFNEI1YngxdFElMkJaUnZVT3A0QkNDYlFBMW9ITnNTUFIwb0hwelJzZyUyRk9iTTgyWjBnSzNKS2g3R3J5akRsM0wwbWNnY3drWXh0bzJlZUdmVnB6QjB2aUdodFgwSnF5Wm9JZEVRZmtpRk93NFpWOFBoZThUeTBvZlF2YlJXZlBaaDNQQTBudEFORjZCb2wlMkI3d3JIbDdNdnk2MWdCdjA4R2FyYzlDWVFWNyUyRlpvaFFJeGFqWWx5OXB1U2s2dEhiVkolMkJMcnRsaWk4VUdjS3NDNHBlN1JlbzhhcVJ5NDEwYXYlMkZpZUpBJTNEJTNEIiwic291cmNlIjoiT3JkZXJzIFNlcnZpY2UifQ.BpjtdjdQbG8T2uz_fk3QVqt0Ds80zUQz7XIaXvuGOikZ7a91NrUNSXveVdKs-bRuZTE6BVO-thsTyrUzCKxjAg [following]\n",
      "--2020-10-30 23:56:12--  https://link.planet.com/orders/v2/download?token=eyJhbGciOiJIUzUxMiIsInR5cCI6IkpXVCJ9.eyJleHAiOjE2MDQxODgyMTgsInN1YiI6InQzajltRHdKeHBwT010cXBtQmliUkFiaWJNbm5uVnFGdmVPSVhjblVDSnhtVGsySnVxSHJXaWJDd0YvRy9RblcycHViUkxvZ0R5d2tHSi8xRnR2VllnPT0iLCJ0b2tlbl90eXBlIjoiZG93bmxvYWQtYXNzZXQtc3RhY2siLCJhb2kiOiIiLCJhc3NldHMiOlt7Iml0ZW1fdHlwZSI6IiIsImFzc2V0X3R5cGUiOiIiLCJpdGVtX2lkIjoiIn1dLCJ1cmwiOiJodHRwczovL3N0b3JhZ2UuZ29vZ2xlYXBpcy5jb20vY29tcHV0ZS1vcmRlcnMtbGl2ZS8xN2Q2OGJhMC05YjFhLTQzMDktYTI0Zi01MGNlNWEwMDQzYjIvb3V0cHV0LnppcD9FeHBpcmVzPTE2MDQxODgyMThcdTAwMjZHb29nbGVBY2Nlc3NJZD1jb21wdXRlLWdjcy1zdmNhY2MlNDBwbGFuZXQtY29tcHV0ZS1wcm9kLmlhbS5nc2VydmljZWFjY291bnQuY29tXHUwMDI2U2lnbmF0dXJlPWY1dzdidW4lMkZTdDdBemhKQ2l0VVdYY0N6MUc0YmVrRWxQanp3bVdvTXR0TUlBMFd6ZVRPQ0xwJTJCcWFRdkJDWnhDbkVGWktYMnVnY3pQeVFzaGFOaW9zJTJCQzBLV3pwViUyQndHWXpjOG9SQlJ0RG43SUtlZW5BaElFNEI1YngxdFElMkJaUnZVT3A0QkNDYlFBMW9ITnNTUFIwb0hwelJzZyUyRk9iTTgyWjBnSzNKS2g3R3J5akRsM0wwbWNnY3drWXh0bzJlZUdmVnB6QjB2aUdodFgwSnF5Wm9JZEVRZmtpRk93NFpWOFBoZThUeTBvZlF2YlJXZlBaaDNQQTBudEFORjZCb2wlMkI3d3JIbDdNdnk2MWdCdjA4R2FyYzlDWVFWNyUyRlpvaFFJeGFqWWx5OXB1U2s2dEhiVkolMkJMcnRsaWk4VUdjS3NDNHBlN1JlbzhhcVJ5NDEwYXYlMkZpZUpBJTNEJTNEIiwic291cmNlIjoiT3JkZXJzIFNlcnZpY2UifQ.BpjtdjdQbG8T2uz_fk3QVqt0Ds80zUQz7XIaXvuGOikZ7a91NrUNSXveVdKs-bRuZTE6BVO-thsTyrUzCKxjAg\n",
      "Resolving link.planet.com (link.planet.com)... 35.241.9.19\n",
      "Connecting to link.planet.com (link.planet.com)|35.241.9.19|:443... connected.\n",
      "HTTP request sent, awaiting response... 200 OK\n",
      "Length: 372376700 (355M) [application/zip]\n",
      "Saving to: ‘/opt/src/order-downloads/visual/output.zip’\n",
      "\n",
      "/opt/src/order-down 100%[===================>] 355.13M  12.2MB/s    in 40s     \n",
      "\n",
      "2020-10-30 23:56:52 (8.82 MB/s) - ‘/opt/src/order-downloads/visual/output.zip’ saved [372376700/372376700]\n",
      "\n",
      "Archive:  /opt/src/order-downloads/visual/output.zip\n",
      " extracting: /opt/src/order-downloads/visual/files/20190109_034415_103d_metadata.json  \n",
      " extracting: /opt/src/order-downloads/visual/files/20190109_034414_103d_3B_Visual_metadata.xml  \n",
      " extracting: /opt/src/order-downloads/visual/files/20190111_034459_0f3f_3B_Visual_file_format.tif  \n",
      " extracting: /opt/src/order-downloads/visual/files/20190109_034416_103d_metadata.json  \n",
      " extracting: /opt/src/order-downloads/visual/files/20190111_033800_0f46_metadata.json  \n",
      " extracting: /opt/src/order-downloads/visual/files/20190109_034415_103d_3B_Visual_metadata.xml  \n",
      " extracting: /opt/src/order-downloads/visual/files/20190111_034459_0f3f_metadata.json  \n",
      " extracting: /opt/src/order-downloads/visual/files/20190111_034457_0f3f_3B_Visual_file_format.tif  \n",
      " extracting: /opt/src/order-downloads/visual/files/20190109_034414_103d_3B_Visual_file_format.tif  \n",
      " extracting: /opt/src/order-downloads/visual/files/20190111_033759_0f46_3B_Visual_file_format.tif  \n",
      " extracting: /opt/src/order-downloads/visual/files/20190111_033759_0f46_metadata.json  \n",
      " extracting: /opt/src/order-downloads/visual/files/20190111_034458_0f3f_3B_Visual_metadata.xml  \n",
      " extracting: /opt/src/order-downloads/visual/files/20190111_034459_0f3f_3B_Visual_metadata.xml  \n",
      " extracting: /opt/src/order-downloads/visual/files/20190109_034415_103d_3B_Visual_file_format.tif  \n",
      " extracting: /opt/src/order-downloads/visual/files/20190111_034457_0f3f_3B_Visual_metadata.xml  \n",
      " extracting: /opt/src/order-downloads/visual/files/20190111_033800_0f46_3B_Visual_metadata.xml  \n",
      " extracting: /opt/src/order-downloads/visual/files/20190109_034416_103d_3B_Visual_metadata.xml  \n",
      " extracting: /opt/src/order-downloads/visual/files/20190111_033759_0f46_3B_Visual_metadata.xml  \n",
      " extracting: /opt/src/order-downloads/visual/files/20190109_034414_103d_metadata.json  \n",
      " extracting: /opt/src/order-downloads/visual/files/20190111_034458_0f3f_metadata.json  \n",
      " extracting: /opt/src/order-downloads/visual/files/20190111_034458_0f3f_3B_Visual_file_format.tif  \n",
      " extracting: /opt/src/order-downloads/visual/files/20190111_033800_0f46_3B_Visual_file_format.tif  \n",
      " extracting: /opt/src/order-downloads/visual/files/20190111_034457_0f3f_metadata.json  \n",
      " extracting: /opt/src/order-downloads/visual/files/20190109_034416_103d_3B_Visual_file_format.tif  \n",
      " extracting: /opt/src/order-downloads/visual/manifest.json  \n"
     ]
    }
   ],
   "source": [
    "download_order(processed_order, VISUAL_ORDER_DIR)"
   ]
  },
  {
   "cell_type": "markdown",
   "metadata": {},
   "source": [
    "### Ordering analytic products\n",
    "\n",
    "We can similarly order PSScene4Band surface reflectance products:"
   ]
  },
  {
   "cell_type": "code",
   "execution_count": 34,
   "metadata": {},
   "outputs": [],
   "source": [
    "analytic_order_request = {\n",
    "    'name': 'My order - analytic surface reflectance cogs',\n",
    "    'products': [\n",
    "        {\n",
    "            'item_ids': ids,\n",
    "            'item_type': 'PSScene4Band',\n",
    "            'product_bundle': 'analytic_sr'\n",
    "        }\n",
    "    ],\n",
    "    'tools': [\n",
    "        {\n",
    "          'file_format': {\n",
    "            'format': 'COG'\n",
    "          }\n",
    "        }\n",
    "      ],\n",
    "    'delivery': { 'single_archive': True },\n",
    "    'notifications': { 'email': True }\n",
    "}"
   ]
  },
  {
   "cell_type": "code",
   "execution_count": 35,
   "metadata": {},
   "outputs": [],
   "source": [
    "order = client.create_order(order_request)\n",
    "order_id = order.get()['id']"
   ]
  },
  {
   "cell_type": "code",
   "execution_count": 39,
   "metadata": {},
   "outputs": [
    {
     "data": {
      "text/plain": [
       "['success']"
      ]
     },
     "execution_count": 39,
     "metadata": {},
     "output_type": "execute_result"
    }
   ],
   "source": [
    "[order['state'] \n",
    " for order in client.get_orders().get()['orders'] \n",
    " if order['id'] == order_id]"
   ]
  },
  {
   "cell_type": "markdown",
   "metadata": {},
   "source": [
    "Once again, when our order succeeds, we'll download the order:"
   ]
  },
  {
   "cell_type": "code",
   "execution_count": 40,
   "metadata": {},
   "outputs": [],
   "source": [
    "processed_order = client.get_individual_order(order_id)"
   ]
  },
  {
   "cell_type": "code",
   "execution_count": 41,
   "metadata": {},
   "outputs": [
    {
     "name": "stdout",
     "output_type": "stream",
     "text": [
      "Downloading output.zip\n",
      "--2020-10-31 00:10:14--  https://api.planet.com/compute/ops/download/?token=eyJhbGciOiJIUzUxMiIsInR5cCI6IkpXVCJ9.eyJleHAiOjE2MDQxODk0MTIsInN1YiI6IjNRYUxVYUVLWU9uNEwwRU9QdFZKaTBsVEg2ZlhYaDhzVlVhcDFGWVR3TENtRDRMM0p5RDFaRVVCNU5icU94aFhOR0MvNjJwN0hVcS8yTFNrWC8vZzFBPT0iLCJ0b2tlbl90eXBlIjoiZG93bmxvYWQtYXNzZXQtc3RhY2siLCJhb2kiOiIiLCJhc3NldHMiOlt7Iml0ZW1fdHlwZSI6IiIsImFzc2V0X3R5cGUiOiIiLCJpdGVtX2lkIjoiIn1dLCJ1cmwiOiJodHRwczovL3N0b3JhZ2UuZ29vZ2xlYXBpcy5jb20vY29tcHV0ZS1vcmRlcnMtbGl2ZS85MjcxZjFjNC1mMmRmLTQ3NTAtOTU5OC1mZWNkODAwYTU3MGYvb3V0cHV0LnppcD9FeHBpcmVzPTE2MDQxODk0MTJcdTAwMjZHb29nbGVBY2Nlc3NJZD1jb21wdXRlLWdjcy1zdmNhY2MlNDBwbGFuZXQtY29tcHV0ZS1wcm9kLmlhbS5nc2VydmljZWFjY291bnQuY29tXHUwMDI2U2lnbmF0dXJlPVZnRGJaUVhZaiUyRkc2TzVyMXFYUyUyQldQU3RVJTJCJTJGbzI3ekIzZyUyRkFvbjhDcDR5eGt4ZSUyRnBaWWd5OG9pd1lpJTJGbWtXN2JKVnpWT0RxdTFPQUQzZHdjZ09tUmNOJTJGeXglMkZzek9ncTJEQXJqVndQY045NG8wUFBlWkRIJTJCaiUyRkNKJTJGZGQxMFEyV3o0S0ZqbCUyQng1dFNMSlJabXVUWnRvR2NQYVlSc0JuU05KUlZnT0lYelZjMyUyRjB4TWtNWW4wZExqQ1F4U3RaUWgwQXVCZk9iJTJCZmltd0owa3haSnUlMkIlMkJneUVHSDMyS3JlcG9SWXdGb25jM0lpQSUyQjZNYVViMWVEVWo5dEtwdUhnNkNVSzF4SlltTWJxcmxONjNBYU1MJTJGN1U0VjFqelRhcEJQQ3VXTUZEd05nbDN6N2toVXBTY0tTWVJiTVdJeUl4WmxuR09NSEgzbUVLVzlRM21NS1U3Y2pRJTNEJTNEIiwic291cmNlIjoiT3JkZXJzIFNlcnZpY2UifQ.fUKgRQy2eY1J6-Ir1s7deaVMTCDq4YEOwSzu05spSjt9RiU4mLY_7HRVWjQVBFGeqn2kd59noI96ybdnK6FeUw\n",
      "Resolving api.planet.com (api.planet.com)... 35.190.57.55\n",
      "Connecting to api.planet.com (api.planet.com)|35.190.57.55|:443... connected.\n",
      "HTTP request sent, awaiting response... 302 Found\n",
      "Location: https://link.planet.com/orders/v2/download?token=eyJhbGciOiJIUzUxMiIsInR5cCI6IkpXVCJ9.eyJleHAiOjE2MDQxODk0MTIsInN1YiI6IjNRYUxVYUVLWU9uNEwwRU9QdFZKaTBsVEg2ZlhYaDhzVlVhcDFGWVR3TENtRDRMM0p5RDFaRVVCNU5icU94aFhOR0MvNjJwN0hVcS8yTFNrWC8vZzFBPT0iLCJ0b2tlbl90eXBlIjoiZG93bmxvYWQtYXNzZXQtc3RhY2siLCJhb2kiOiIiLCJhc3NldHMiOlt7Iml0ZW1fdHlwZSI6IiIsImFzc2V0X3R5cGUiOiIiLCJpdGVtX2lkIjoiIn1dLCJ1cmwiOiJodHRwczovL3N0b3JhZ2UuZ29vZ2xlYXBpcy5jb20vY29tcHV0ZS1vcmRlcnMtbGl2ZS85MjcxZjFjNC1mMmRmLTQ3NTAtOTU5OC1mZWNkODAwYTU3MGYvb3V0cHV0LnppcD9FeHBpcmVzPTE2MDQxODk0MTJcdTAwMjZHb29nbGVBY2Nlc3NJZD1jb21wdXRlLWdjcy1zdmNhY2MlNDBwbGFuZXQtY29tcHV0ZS1wcm9kLmlhbS5nc2VydmljZWFjY291bnQuY29tXHUwMDI2U2lnbmF0dXJlPVZnRGJaUVhZaiUyRkc2TzVyMXFYUyUyQldQU3RVJTJCJTJGbzI3ekIzZyUyRkFvbjhDcDR5eGt4ZSUyRnBaWWd5OG9pd1lpJTJGbWtXN2JKVnpWT0RxdTFPQUQzZHdjZ09tUmNOJTJGeXglMkZzek9ncTJEQXJqVndQY045NG8wUFBlWkRIJTJCaiUyRkNKJTJGZGQxMFEyV3o0S0ZqbCUyQng1dFNMSlJabXVUWnRvR2NQYVlSc0JuU05KUlZnT0lYelZjMyUyRjB4TWtNWW4wZExqQ1F4U3RaUWgwQXVCZk9iJTJCZmltd0owa3haSnUlMkIlMkJneUVHSDMyS3JlcG9SWXdGb25jM0lpQSUyQjZNYVViMWVEVWo5dEtwdUhnNkNVSzF4SlltTWJxcmxONjNBYU1MJTJGN1U0VjFqelRhcEJQQ3VXTUZEd05nbDN6N2toVXBTY0tTWVJiTVdJeUl4WmxuR09NSEgzbUVLVzlRM21NS1U3Y2pRJTNEJTNEIiwic291cmNlIjoiT3JkZXJzIFNlcnZpY2UifQ.fUKgRQy2eY1J6-Ir1s7deaVMTCDq4YEOwSzu05spSjt9RiU4mLY_7HRVWjQVBFGeqn2kd59noI96ybdnK6FeUw [following]\n",
      "--2020-10-31 00:10:14--  https://link.planet.com/orders/v2/download?token=eyJhbGciOiJIUzUxMiIsInR5cCI6IkpXVCJ9.eyJleHAiOjE2MDQxODk0MTIsInN1YiI6IjNRYUxVYUVLWU9uNEwwRU9QdFZKaTBsVEg2ZlhYaDhzVlVhcDFGWVR3TENtRDRMM0p5RDFaRVVCNU5icU94aFhOR0MvNjJwN0hVcS8yTFNrWC8vZzFBPT0iLCJ0b2tlbl90eXBlIjoiZG93bmxvYWQtYXNzZXQtc3RhY2siLCJhb2kiOiIiLCJhc3NldHMiOlt7Iml0ZW1fdHlwZSI6IiIsImFzc2V0X3R5cGUiOiIiLCJpdGVtX2lkIjoiIn1dLCJ1cmwiOiJodHRwczovL3N0b3JhZ2UuZ29vZ2xlYXBpcy5jb20vY29tcHV0ZS1vcmRlcnMtbGl2ZS85MjcxZjFjNC1mMmRmLTQ3NTAtOTU5OC1mZWNkODAwYTU3MGYvb3V0cHV0LnppcD9FeHBpcmVzPTE2MDQxODk0MTJcdTAwMjZHb29nbGVBY2Nlc3NJZD1jb21wdXRlLWdjcy1zdmNhY2MlNDBwbGFuZXQtY29tcHV0ZS1wcm9kLmlhbS5nc2VydmljZWFjY291bnQuY29tXHUwMDI2U2lnbmF0dXJlPVZnRGJaUVhZaiUyRkc2TzVyMXFYUyUyQldQU3RVJTJCJTJGbzI3ekIzZyUyRkFvbjhDcDR5eGt4ZSUyRnBaWWd5OG9pd1lpJTJGbWtXN2JKVnpWT0RxdTFPQUQzZHdjZ09tUmNOJTJGeXglMkZzek9ncTJEQXJqVndQY045NG8wUFBlWkRIJTJCaiUyRkNKJTJGZGQxMFEyV3o0S0ZqbCUyQng1dFNMSlJabXVUWnRvR2NQYVlSc0JuU05KUlZnT0lYelZjMyUyRjB4TWtNWW4wZExqQ1F4U3RaUWgwQXVCZk9iJTJCZmltd0owa3haSnUlMkIlMkJneUVHSDMyS3JlcG9SWXdGb25jM0lpQSUyQjZNYVViMWVEVWo5dEtwdUhnNkNVSzF4SlltTWJxcmxONjNBYU1MJTJGN1U0VjFqelRhcEJQQ3VXTUZEd05nbDN6N2toVXBTY0tTWVJiTVdJeUl4WmxuR09NSEgzbUVLVzlRM21NS1U3Y2pRJTNEJTNEIiwic291cmNlIjoiT3JkZXJzIFNlcnZpY2UifQ.fUKgRQy2eY1J6-Ir1s7deaVMTCDq4YEOwSzu05spSjt9RiU4mLY_7HRVWjQVBFGeqn2kd59noI96ybdnK6FeUw\n",
      "Resolving link.planet.com (link.planet.com)... 35.241.9.19\n",
      "Connecting to link.planet.com (link.planet.com)|35.241.9.19|:443... connected.\n",
      "HTTP request sent, awaiting response... 200 OK\n",
      "Length: 372376700 (355M) [application/zip]\n",
      "Saving to: ‘/opt/src/order-downloads/analytic/output.zip’\n",
      "\n",
      "/opt/src/order-down 100%[===================>] 355.13M  5.97MB/s    in 56s     \n",
      "\n",
      "2020-10-31 00:11:10 (6.37 MB/s) - ‘/opt/src/order-downloads/analytic/output.zip’ saved [372376700/372376700]\n",
      "\n",
      "Archive:  /opt/src/order-downloads/analytic/output.zip\n",
      " extracting: /opt/src/order-downloads/analytic/files/20190109_034416_103d_3B_Visual_metadata.xml  \n",
      " extracting: /opt/src/order-downloads/analytic/files/20190111_034458_0f3f_metadata.json  \n",
      " extracting: /opt/src/order-downloads/analytic/files/20190111_034459_0f3f_3B_Visual_metadata.xml  \n",
      " extracting: /opt/src/order-downloads/analytic/files/20190111_034458_0f3f_3B_Visual_file_format.tif  \n",
      " extracting: /opt/src/order-downloads/analytic/files/20190109_034415_103d_3B_Visual_file_format.tif  \n",
      " extracting: /opt/src/order-downloads/analytic/files/20190111_034459_0f3f_3B_Visual_file_format.tif  \n",
      " extracting: /opt/src/order-downloads/analytic/files/20190109_034415_103d_metadata.json  \n",
      " extracting: /opt/src/order-downloads/analytic/files/20190111_034457_0f3f_3B_Visual_metadata.xml  \n",
      " extracting: /opt/src/order-downloads/analytic/files/20190111_033800_0f46_3B_Visual_file_format.tif  \n",
      " extracting: /opt/src/order-downloads/analytic/files/20190109_034414_103d_metadata.json  \n",
      " extracting: /opt/src/order-downloads/analytic/files/20190109_034415_103d_3B_Visual_metadata.xml  \n",
      " extracting: /opt/src/order-downloads/analytic/files/20190109_034414_103d_3B_Visual_metadata.xml  \n",
      " extracting: /opt/src/order-downloads/analytic/files/20190109_034416_103d_metadata.json  \n",
      " extracting: /opt/src/order-downloads/analytic/files/20190111_034457_0f3f_3B_Visual_file_format.tif  \n",
      " extracting: /opt/src/order-downloads/analytic/files/20190111_033759_0f46_3B_Visual_file_format.tif  \n",
      " extracting: /opt/src/order-downloads/analytic/files/20190109_034414_103d_3B_Visual_file_format.tif  \n",
      " extracting: /opt/src/order-downloads/analytic/files/20190109_034416_103d_3B_Visual_file_format.tif  \n",
      " extracting: /opt/src/order-downloads/analytic/files/20190111_033759_0f46_3B_Visual_metadata.xml  \n",
      " extracting: /opt/src/order-downloads/analytic/files/20190111_034458_0f3f_3B_Visual_metadata.xml  \n",
      " extracting: /opt/src/order-downloads/analytic/files/20190111_034459_0f3f_metadata.json  \n",
      " extracting: /opt/src/order-downloads/analytic/files/20190111_034457_0f3f_metadata.json  \n",
      " extracting: /opt/src/order-downloads/analytic/files/20190111_033800_0f46_3B_Visual_metadata.xml  \n",
      " extracting: /opt/src/order-downloads/analytic/files/20190111_033800_0f46_metadata.json  \n",
      " extracting: /opt/src/order-downloads/analytic/files/20190111_033759_0f46_metadata.json  \n",
      " extracting: /opt/src/order-downloads/analytic/manifest.json  \n"
     ]
    }
   ],
   "source": [
    "download_order(processed_order, ANALYTIC_ORDER_DIR)"
   ]
  },
  {
   "cell_type": "markdown",
   "metadata": {},
   "source": [
    "## Turning orders into STAC"
   ]
  },
  {
   "cell_type": "markdown",
   "metadata": {},
   "source": [
    "We can create STACs of each of these orders with the `stactools.planet` subpackage. To do so, we read in the manifests of the order into `OrderManifest` objects, and convert them to STAC PySTAC collections:"
   ]
  },
  {
   "cell_type": "code",
   "execution_count": 42,
   "metadata": {},
   "outputs": [],
   "source": [
    "from stactools.planet import OrderManifest"
   ]
  },
  {
   "cell_type": "code",
   "execution_count": 43,
   "metadata": {},
   "outputs": [],
   "source": [
    "visual_manifest = OrderManifest.from_file(os.path.join(VISUAL_ORDER_DIR, 'manifest.json'))"
   ]
  },
  {
   "cell_type": "markdown",
   "metadata": {},
   "source": [
    "Now we use the `to_stac` method to create a PySTAC Collection:"
   ]
  },
  {
   "cell_type": "code",
   "execution_count": 44,
   "metadata": {},
   "outputs": [],
   "source": [
    "visual_collection = visual_manifest.to_stac(\n",
    "    collection_id='visual-cogs', \n",
    "    description='A planet order converted to STAC. Created in Python.',\n",
    "    title='Planet data over S Myanmar'\n",
    ")"
   ]
  },
  {
   "cell_type": "markdown",
   "metadata": {},
   "source": [
    "We can save off our catalog, and then use stactools to copy the assets into our STAC. We'll save the catalog before copying to ensure the directory structure of our new STAC exists."
   ]
  },
  {
   "cell_type": "code",
   "execution_count": 45,
   "metadata": {},
   "outputs": [],
   "source": [
    "import pystac\n",
    "import stactools.core"
   ]
  },
  {
   "cell_type": "code",
   "execution_count": 46,
   "metadata": {},
   "outputs": [],
   "source": [
    "visual_collection.normalize_hrefs(os.path.join(STAC_DIR, 'visual'))\n",
    "visual_collection.save(catalog_type=pystac.CatalogType.SELF_CONTAINED)"
   ]
  },
  {
   "cell_type": "code",
   "execution_count": 47,
   "metadata": {},
   "outputs": [],
   "source": [
    "visual_collection = stactools.core.move_all_assets(visual_collection, copy=True, ignore_conflicts=True)"
   ]
  },
  {
   "cell_type": "markdown",
   "metadata": {},
   "source": [
    "We now have a STAC that can be browsed with `stac browse`. See the CLI tutorial for steps on how to browse the catalog.\n",
    "\n",
    "We can do the same thing with the analytic order:"
   ]
  },
  {
   "cell_type": "code",
   "execution_count": 48,
   "metadata": {},
   "outputs": [],
   "source": [
    "analytic_manifest = OrderManifest.from_file(os.path.join(ANALYTIC_ORDER_DIR, 'manifest.json'))\n",
    "analytic_collection = analytic_manifest.to_stac(\n",
    "    collection_id='analytic-cogs', \n",
    "    description='A planet order converted to STAC. Created in Python.',\n",
    "    title='Planet data over S Myanmar'\n",
    ")\n",
    "analytic_collection.normalize_hrefs(os.path.join(STAC_DIR, 'analytic'))\n",
    "analytic_collection.save(catalog_type=pystac.CatalogType.SELF_CONTAINED)\n",
    "\n",
    "analytic_collection = stactools.core.move_all_assets(analytic_collection, copy=True, ignore_conflicts=True)"
   ]
  },
  {
   "cell_type": "markdown",
   "metadata": {},
   "source": [
    "### Merging STACs\n",
    "\n",
    "Since the analytic and visual orders reference the same items, we may want to have them in a single catalog, with Items having both visual and analytic assets. We can use stactools's `merge_all_items` to merge the items from the analytic collection into the visual one:"
   ]
  },
  {
   "cell_type": "code",
   "execution_count": 49,
   "metadata": {},
   "outputs": [],
   "source": [
    "visual_collection = stactools.core.merge_all_items(\n",
    "    analytic_collection, \n",
    "    visual_collection,\n",
    "    move_assets=True, \n",
    "    ignore_conflicts=True)"
   ]
  },
  {
   "cell_type": "markdown",
   "metadata": {},
   "source": [
    "Here we used `move_assets` to move the assets from the analytic STAC next to the items created in the visual STAC. `ignore_conflicts` is needed here since both versions of the Item will have a metadata.json asset from the order, which should be the same metadata referencing the Planet Item.\n",
    "\n",
    "We can get an item out of our visual collection and see it now has analytic assets as well:"
   ]
  },
  {
   "cell_type": "code",
   "execution_count": 50,
   "metadata": {},
   "outputs": [
    {
     "name": "stdout",
     "output_type": "stream",
     "text": [
      "visual:visual_xml\n",
      "visual\n",
      "metadata\n"
     ]
    }
   ],
   "source": [
    "item = next(visual_collection.get_all_items())\n",
    "for key in item.assets:\n",
    "    print(key)"
   ]
  },
  {
   "cell_type": "code",
   "execution_count": 51,
   "metadata": {},
   "outputs": [],
   "source": [
    "visual_collection.save(catalog_type=pystac.CatalogType.SELF_CONTAINED)"
   ]
  },
  {
   "cell_type": "markdown",
   "metadata": {},
   "source": [
    "### Adding more orders and items\n",
    "\n",
    "We may want to merge in data that isn't different assets of our original items. To work with this, we'll create another order; this time, we'll use a slightly different area, and spread items over time:"
   ]
  },
  {
   "cell_type": "code",
   "execution_count": 52,
   "metadata": {},
   "outputs": [],
   "source": [
    "aoi2 = {\n",
    "    \"type\": \"Polygon\",\n",
    "    \"coordinates\": [\n",
    "      [\n",
    "        [\n",
    "          94.75570678710938,\n",
    "          15.695764366303791\n",
    "        ],\n",
    "        [\n",
    "          94.93560791015625,\n",
    "          15.695764366303791\n",
    "        ],\n",
    "        [\n",
    "          94.93560791015625,\n",
    "          15.855673509998681\n",
    "        ],\n",
    "        [\n",
    "          94.75570678710938,\n",
    "          15.855673509998681\n",
    "        ],\n",
    "        [\n",
    "          94.75570678710938,\n",
    "          15.695764366303791\n",
    "        ]\n",
    "      ]\n",
    "    ]\n",
    "  }"
   ]
  },
  {
   "cell_type": "code",
   "execution_count": 53,
   "metadata": {},
   "outputs": [
    {
     "name": "stdout",
     "output_type": "stream",
     "text": [
      "Searching for scenes in 2018-09\n",
      "Searching for scenes in 2018-10\n",
      "Searching for scenes in 2018-11\n",
      "Searching for scenes in 2018-12\n",
      "Searching for scenes in 2019-01\n",
      "Searching for scenes in 2019-02\n",
      "Searching for scenes in 2019-03\n"
     ]
    }
   ],
   "source": [
    "ids = []\n",
    "\n",
    "months = ['2018-09',\n",
    "          '2018-10',\n",
    "          '2018-11',\n",
    "          '2018-12',\n",
    "          '2019-01',\n",
    "          '2019-02',\n",
    "          '2019-03']\n",
    "for month in months:\n",
    "    print('Searching for scenes in {}'.format(month))\n",
    "    query = filters.and_filter(\n",
    "        filters.geom_filter(aoi2),\n",
    "        filters.range_filter('cloud_cover', gt=0.01),\n",
    "        filters.range_filter('cloud_cover', lt=0.1),\n",
    "        filters.date_range('acquired', gt='{}-01'.format(month)),\n",
    "        filters.date_range('acquired', lt='{}-28'.format(month))\n",
    "    )\n",
    "\n",
    "    request =filters.build_search_request(\n",
    "        query, item_types=['PSScene3Band']\n",
    "    )\n",
    "    \n",
    "    result = client.quick_search(request)\n",
    "    \n",
    "    item = next(result.items_iter(limit=None))\n",
    "    ids.append(item['id'])"
   ]
  },
  {
   "cell_type": "markdown",
   "metadata": {},
   "source": [
    "We'll once again create the order, wait for it to succeed, download and unzip it:"
   ]
  },
  {
   "cell_type": "code",
   "execution_count": 54,
   "metadata": {},
   "outputs": [
    {
     "data": {
      "text/plain": [
       "{'name': 'My order - visual cogs',\n",
       " 'products': [{'item_ids': ['20180924_034401_0f3f',\n",
       "    '20181025_034420_0f4e',\n",
       "    '20181125_034649_0f28',\n",
       "    '20181227_034225_0f2b',\n",
       "    '20190119_034511_1035',\n",
       "    '20190212_033542_1054',\n",
       "    '20190322_034910_0f12'],\n",
       "   'item_type': 'PSScene3Band',\n",
       "   'product_bundle': 'visual'}],\n",
       " 'tools': [{'file_format': {'format': 'COG'}}],\n",
       " 'delivery': {'single_archive': True},\n",
       " 'notifications': {'email': True}}"
      ]
     },
     "execution_count": 54,
     "metadata": {},
     "output_type": "execute_result"
    }
   ],
   "source": [
    "order_request = {\n",
    "    'name': 'My order - visual cogs',\n",
    "    'products': [\n",
    "        {\n",
    "            'item_ids': ids,\n",
    "            'item_type': 'PSScene3Band',\n",
    "            'product_bundle': 'visual'\n",
    "        }\n",
    "    ],\n",
    "    'tools': [\n",
    "        {\n",
    "          'file_format': {\n",
    "            'format': 'COG'\n",
    "          }\n",
    "        }\n",
    "      ],\n",
    "    'delivery': { 'single_archive': True },\n",
    "    'notifications': { 'email': True }\n",
    "}\n",
    "\n",
    "order_request"
   ]
  },
  {
   "cell_type": "code",
   "execution_count": 55,
   "metadata": {},
   "outputs": [],
   "source": [
    "order = client.create_order(order_request)\n",
    "order_id = order.get()['id']"
   ]
  },
  {
   "cell_type": "code",
   "execution_count": 60,
   "metadata": {},
   "outputs": [
    {
     "data": {
      "text/plain": [
       "['success']"
      ]
     },
     "execution_count": 60,
     "metadata": {},
     "output_type": "execute_result"
    }
   ],
   "source": [
    "[order['state'] \n",
    " for order in client.get_orders().get()['orders'] \n",
    " if order['id'] == order_id]"
   ]
  },
  {
   "cell_type": "code",
   "execution_count": 61,
   "metadata": {},
   "outputs": [
    {
     "name": "stdout",
     "output_type": "stream",
     "text": [
      "Downloading output.zip\n",
      "--2020-10-31 00:21:57--  https://api.planet.com/compute/ops/download/?token=eyJhbGciOiJIUzUxMiIsInR5cCI6IkpXVCJ9.eyJleHAiOjE2MDQxOTAxMTYsInN1YiI6IkF5Sk1HcEtsSTQyTkhCbDBvWENSM0trZ1F4ZjR4TGpoV1ROeEg4S1h5ZUdSeHpua21KOG1USDRGa0xkbFZ4R09IbkVYS0lmY2JsOUJBT25PK2ZWZkhBPT0iLCJ0b2tlbl90eXBlIjoiZG93bmxvYWQtYXNzZXQtc3RhY2siLCJhb2kiOiIiLCJhc3NldHMiOlt7Iml0ZW1fdHlwZSI6IiIsImFzc2V0X3R5cGUiOiIiLCJpdGVtX2lkIjoiIn1dLCJ1cmwiOiJodHRwczovL3N0b3JhZ2UuZ29vZ2xlYXBpcy5jb20vY29tcHV0ZS1vcmRlcnMtbGl2ZS8zZjA5ZGQxOC05ZTRhLTQyNWQtYmM0Yy00ZWVhNDJhYjU0ZmIvb3V0cHV0LnppcD9FeHBpcmVzPTE2MDQxOTAxMTZcdTAwMjZHb29nbGVBY2Nlc3NJZD1jb21wdXRlLWdjcy1zdmNhY2MlNDBwbGFuZXQtY29tcHV0ZS1wcm9kLmlhbS5nc2VydmljZWFjY291bnQuY29tXHUwMDI2U2lnbmF0dXJlPU5yNUR4MXhlcnFYQ0dBak42JTJCa1VWMFVlS3lrRm1KMnNGMG5FQzlaeTFVOHo5aEdDSVZJViUyRkUlMkZkQTY2M0ZFZiUyQmppayUyRkM4UFdnUlBCM01RVGlGQVVjTjM0JTJGcXJlQWtPS3lQMXh0VzI0RGtMd1hneVpSMkMwM1JaYUFxZE5yc0tlQ25wbFUlMkZkd2wlMkIlMkJFSzhZMXN4cVVGSElUcVZJenZoQmttM3RpZ2lGN1lWbDNlemxHODNyQXBnbExZZWpCNW9SSlElMkIxdlJ4U1pKdXIlMkZnYnhjSmdTJTJGOWN3UzJhZkNqTWYwJTJGMXdWcHhXMEV1bTJiVWoyWW9PRDliemN0cGttZiUyQmlwUld2Rmh2TEl5UXFTYVBra2Nnb04lMkJEWEFJVzRDUFNkb01TNGI0OHJyemdKRmV2VnRjRng1U1VyVmlwWmNKREZ4T2hqYzJHa1hQU0JhNGxOS3F5UVolMkZBJTNEJTNEIiwic291cmNlIjoiT3JkZXJzIFNlcnZpY2UifQ.WVLvWjLtH9420vzloDujZQzIM7LWY3wUrEsA0inR2PbW5dPEz_DYhOBDlDKrKo95kbMczO0ecm9swmscu0KP4w\n",
      "Resolving api.planet.com (api.planet.com)... 35.190.57.55\n",
      "Connecting to api.planet.com (api.planet.com)|35.190.57.55|:443... connected.\n",
      "HTTP request sent, awaiting response... 302 Found\n",
      "Location: https://link.planet.com/orders/v2/download?token=eyJhbGciOiJIUzUxMiIsInR5cCI6IkpXVCJ9.eyJleHAiOjE2MDQxOTAxMTYsInN1YiI6IkF5Sk1HcEtsSTQyTkhCbDBvWENSM0trZ1F4ZjR4TGpoV1ROeEg4S1h5ZUdSeHpua21KOG1USDRGa0xkbFZ4R09IbkVYS0lmY2JsOUJBT25PK2ZWZkhBPT0iLCJ0b2tlbl90eXBlIjoiZG93bmxvYWQtYXNzZXQtc3RhY2siLCJhb2kiOiIiLCJhc3NldHMiOlt7Iml0ZW1fdHlwZSI6IiIsImFzc2V0X3R5cGUiOiIiLCJpdGVtX2lkIjoiIn1dLCJ1cmwiOiJodHRwczovL3N0b3JhZ2UuZ29vZ2xlYXBpcy5jb20vY29tcHV0ZS1vcmRlcnMtbGl2ZS8zZjA5ZGQxOC05ZTRhLTQyNWQtYmM0Yy00ZWVhNDJhYjU0ZmIvb3V0cHV0LnppcD9FeHBpcmVzPTE2MDQxOTAxMTZcdTAwMjZHb29nbGVBY2Nlc3NJZD1jb21wdXRlLWdjcy1zdmNhY2MlNDBwbGFuZXQtY29tcHV0ZS1wcm9kLmlhbS5nc2VydmljZWFjY291bnQuY29tXHUwMDI2U2lnbmF0dXJlPU5yNUR4MXhlcnFYQ0dBak42JTJCa1VWMFVlS3lrRm1KMnNGMG5FQzlaeTFVOHo5aEdDSVZJViUyRkUlMkZkQTY2M0ZFZiUyQmppayUyRkM4UFdnUlBCM01RVGlGQVVjTjM0JTJGcXJlQWtPS3lQMXh0VzI0RGtMd1hneVpSMkMwM1JaYUFxZE5yc0tlQ25wbFUlMkZkd2wlMkIlMkJFSzhZMXN4cVVGSElUcVZJenZoQmttM3RpZ2lGN1lWbDNlemxHODNyQXBnbExZZWpCNW9SSlElMkIxdlJ4U1pKdXIlMkZnYnhjSmdTJTJGOWN3UzJhZkNqTWYwJTJGMXdWcHhXMEV1bTJiVWoyWW9PRDliemN0cGttZiUyQmlwUld2Rmh2TEl5UXFTYVBra2Nnb04lMkJEWEFJVzRDUFNkb01TNGI0OHJyemdKRmV2VnRjRng1U1VyVmlwWmNKREZ4T2hqYzJHa1hQU0JhNGxOS3F5UVolMkZBJTNEJTNEIiwic291cmNlIjoiT3JkZXJzIFNlcnZpY2UifQ.WVLvWjLtH9420vzloDujZQzIM7LWY3wUrEsA0inR2PbW5dPEz_DYhOBDlDKrKo95kbMczO0ecm9swmscu0KP4w [following]\n",
      "--2020-10-31 00:21:58--  https://link.planet.com/orders/v2/download?token=eyJhbGciOiJIUzUxMiIsInR5cCI6IkpXVCJ9.eyJleHAiOjE2MDQxOTAxMTYsInN1YiI6IkF5Sk1HcEtsSTQyTkhCbDBvWENSM0trZ1F4ZjR4TGpoV1ROeEg4S1h5ZUdSeHpua21KOG1USDRGa0xkbFZ4R09IbkVYS0lmY2JsOUJBT25PK2ZWZkhBPT0iLCJ0b2tlbl90eXBlIjoiZG93bmxvYWQtYXNzZXQtc3RhY2siLCJhb2kiOiIiLCJhc3NldHMiOlt7Iml0ZW1fdHlwZSI6IiIsImFzc2V0X3R5cGUiOiIiLCJpdGVtX2lkIjoiIn1dLCJ1cmwiOiJodHRwczovL3N0b3JhZ2UuZ29vZ2xlYXBpcy5jb20vY29tcHV0ZS1vcmRlcnMtbGl2ZS8zZjA5ZGQxOC05ZTRhLTQyNWQtYmM0Yy00ZWVhNDJhYjU0ZmIvb3V0cHV0LnppcD9FeHBpcmVzPTE2MDQxOTAxMTZcdTAwMjZHb29nbGVBY2Nlc3NJZD1jb21wdXRlLWdjcy1zdmNhY2MlNDBwbGFuZXQtY29tcHV0ZS1wcm9kLmlhbS5nc2VydmljZWFjY291bnQuY29tXHUwMDI2U2lnbmF0dXJlPU5yNUR4MXhlcnFYQ0dBak42JTJCa1VWMFVlS3lrRm1KMnNGMG5FQzlaeTFVOHo5aEdDSVZJViUyRkUlMkZkQTY2M0ZFZiUyQmppayUyRkM4UFdnUlBCM01RVGlGQVVjTjM0JTJGcXJlQWtPS3lQMXh0VzI0RGtMd1hneVpSMkMwM1JaYUFxZE5yc0tlQ25wbFUlMkZkd2wlMkIlMkJFSzhZMXN4cVVGSElUcVZJenZoQmttM3RpZ2lGN1lWbDNlemxHODNyQXBnbExZZWpCNW9SSlElMkIxdlJ4U1pKdXIlMkZnYnhjSmdTJTJGOWN3UzJhZkNqTWYwJTJGMXdWcHhXMEV1bTJiVWoyWW9PRDliemN0cGttZiUyQmlwUld2Rmh2TEl5UXFTYVBra2Nnb04lMkJEWEFJVzRDUFNkb01TNGI0OHJyemdKRmV2VnRjRng1U1VyVmlwWmNKREZ4T2hqYzJHa1hQU0JhNGxOS3F5UVolMkZBJTNEJTNEIiwic291cmNlIjoiT3JkZXJzIFNlcnZpY2UifQ.WVLvWjLtH9420vzloDujZQzIM7LWY3wUrEsA0inR2PbW5dPEz_DYhOBDlDKrKo95kbMczO0ecm9swmscu0KP4w\n",
      "Resolving link.planet.com (link.planet.com)... 35.241.9.19\n",
      "Connecting to link.planet.com (link.planet.com)|35.241.9.19|:443... connected.\n",
      "HTTP request sent, awaiting response... 200 OK\n",
      "Length: 294998915 (281M) [application/zip]\n",
      "Saving to: ‘/opt/src/order-downloads/range/output.zip’\n",
      "\n",
      "/opt/src/order-down 100%[===================>] 281.33M  9.23MB/s    in 44s     \n",
      "\n",
      "2020-10-31 00:22:42 (6.34 MB/s) - ‘/opt/src/order-downloads/range/output.zip’ saved [294998915/294998915]\n",
      "\n",
      "Archive:  /opt/src/order-downloads/range/output.zip\n",
      " extracting: /opt/src/order-downloads/range/files/20181025_034420_0f4e_metadata.json  \n",
      " extracting: /opt/src/order-downloads/range/files/20181025_034420_0f4e_3B_Visual_metadata.xml  \n",
      " extracting: /opt/src/order-downloads/range/files/20181125_034649_0f28_3B_Visual_file_format.tif  \n",
      " extracting: /opt/src/order-downloads/range/files/20190322_034910_0f12_3B_Visual_metadata.xml  \n",
      " extracting: /opt/src/order-downloads/range/files/20180924_034401_0f3f_metadata.json  \n",
      " extracting: /opt/src/order-downloads/range/files/20190212_033542_1054_3B_Visual_file_format.tif  \n",
      " extracting: /opt/src/order-downloads/range/files/20180924_034401_0f3f_3B_Visual_file_format.tif  \n",
      " extracting: /opt/src/order-downloads/range/files/20181227_034225_0f2b_metadata.json  \n",
      " extracting: /opt/src/order-downloads/range/files/20190322_034910_0f12_3B_Visual_file_format.tif  \n",
      " extracting: /opt/src/order-downloads/range/files/20181025_034420_0f4e_3B_Visual_file_format.tif  \n",
      " extracting: /opt/src/order-downloads/range/files/20190119_034511_1035_3B_Visual_metadata.xml  \n",
      " extracting: /opt/src/order-downloads/range/files/20180924_034401_0f3f_3B_Visual_metadata.xml  \n",
      " extracting: /opt/src/order-downloads/range/files/20181125_034649_0f28_metadata.json  \n",
      " extracting: /opt/src/order-downloads/range/files/20181125_034649_0f28_3B_Visual_metadata.xml  \n",
      " extracting: /opt/src/order-downloads/range/files/20181227_034225_0f2b_3B_Visual_metadata.xml  \n",
      " extracting: /opt/src/order-downloads/range/files/20181227_034225_0f2b_3B_Visual_file_format.tif  \n",
      " extracting: /opt/src/order-downloads/range/files/20190212_033542_1054_metadata.json  \n",
      " extracting: /opt/src/order-downloads/range/files/20190119_034511_1035_metadata.json  \n",
      " extracting: /opt/src/order-downloads/range/files/20190212_033542_1054_3B_Visual_metadata.xml  \n",
      " extracting: /opt/src/order-downloads/range/files/20190322_034910_0f12_metadata.json  \n",
      " extracting: /opt/src/order-downloads/range/files/20190119_034511_1035_3B_Visual_file_format.tif  \n",
      " extracting: /opt/src/order-downloads/range/manifest.json  \n"
     ]
    }
   ],
   "source": [
    "processed_order = client.get_individual_order(order_id)\n",
    "download_order(processed_order, TIMERANGE_ORDER_DIR)"
   ]
  },
  {
   "cell_type": "markdown",
   "metadata": {},
   "source": [
    "We can get a STAC of the order and merge it into our existing STAC:"
   ]
  },
  {
   "cell_type": "code",
   "execution_count": 63,
   "metadata": {},
   "outputs": [],
   "source": [
    "range_manifest = OrderManifest.from_file(os.path.join(TIMERANGE_ORDER_DIR, 'manifest.json'))\n",
    "range_collection = range_manifest.to_stac(collection_id='range_collection')"
   ]
  },
  {
   "cell_type": "code",
   "execution_count": 64,
   "metadata": {},
   "outputs": [],
   "source": [
    "merged_collection = stactools.core.merge_all_items(\n",
    "    range_collection, \n",
    "    visual_collection, \n",
    "    move_assets=False,\n",
    "    ignore_conflicts=True)"
   ]
  },
  {
   "cell_type": "markdown",
   "metadata": {},
   "source": [
    "Notices that we aren't moving the assets yet; we'll do that once the catalog is in it's final form.\n",
    "\n",
    "Using the describe method, we see that we have our new items:"
   ]
  },
  {
   "cell_type": "code",
   "execution_count": 24,
   "metadata": {},
   "outputs": [
    {
     "name": "stdout",
     "output_type": "stream",
     "text": [
      "* <Collection id=visual-cogs>\n",
      "  * <Item id=20190109_034414_103d>\n",
      "  * <Item id=20190111_033800_0f46>\n",
      "  * <Item id=20190111_033759_0f46>\n",
      "  * <Item id=20190109_034416_103d>\n",
      "  * <Item id=20190111_034459_0f3f>\n",
      "  * <Item id=20190109_034415_103d>\n",
      "  * <Item id=20190111_034458_0f3f>\n",
      "  * <Item id=20190111_034457_0f3f>\n",
      "  * <Item id=20180924_034401_0f3f>\n",
      "  * <Item id=20190212_033542_1054>\n",
      "  * <Item id=20190119_034511_1035>\n",
      "  * <Item id=20181025_034420_0f4e>\n",
      "  * <Item id=20181125_034649_0f28>\n",
      "  * <Item id=20190322_034910_0f12>\n",
      "  * <Item id=20181227_034225_0f2b>\n"
     ]
    }
   ],
   "source": [
    "merged_collection.describe()"
   ]
  },
  {
   "cell_type": "markdown",
   "metadata": {},
   "source": [
    "## Modifying the layout of the catalog\n",
    "\n",
    "Our catalog is still pretty small, but you can imagine in a larger catalog wanting to create some subdirectories and subcatalogs to organize the items into smaller groups. We can do that here with the PySTAC. We use a string template to generate subcatalogs based on the item's year and month:"
   ]
  },
  {
   "cell_type": "code",
   "execution_count": 67,
   "metadata": {},
   "outputs": [
    {
     "data": {
      "text/plain": [
       "[<Catalog id=2019>,\n",
       " <Catalog id=1>,\n",
       " <Catalog id=2018>,\n",
       " <Catalog id=10>,\n",
       " <Catalog id=11>,\n",
       " <Catalog id=3>,\n",
       " <Catalog id=9>,\n",
       " <Catalog id=2>,\n",
       " <Catalog id=12>]"
      ]
     },
     "execution_count": 67,
     "metadata": {},
     "output_type": "execute_result"
    }
   ],
   "source": [
    "merged_collection.generate_subcatalogs(template='{year}/{month}')"
   ]
  },
  {
   "cell_type": "markdown",
   "metadata": {},
   "source": [
    "The catalogs returned were all the new subcatalogs created.\n",
    "\n",
    "We can describe our catalog and see how the layout has changed:"
   ]
  },
  {
   "cell_type": "code",
   "execution_count": 68,
   "metadata": {},
   "outputs": [
    {
     "name": "stdout",
     "output_type": "stream",
     "text": [
      "* <Collection id=visual-cogs>\n",
      "    * <Catalog id=2019>\n",
      "        * <Catalog id=1>\n",
      "          * <Item id=20190109_034415_103d>\n",
      "          * <Item id=20190109_034414_103d>\n",
      "          * <Item id=20190111_034459_0f3f>\n",
      "          * <Item id=20190109_034416_103d>\n",
      "          * <Item id=20190111_033800_0f46>\n",
      "          * <Item id=20190111_034457_0f3f>\n",
      "          * <Item id=20190111_033759_0f46>\n",
      "          * <Item id=20190111_034458_0f3f>\n",
      "          * <Item id=20190119_034511_1035>\n",
      "        * <Catalog id=3>\n",
      "          * <Item id=20190322_034910_0f12>\n",
      "        * <Catalog id=2>\n",
      "          * <Item id=20190212_033542_1054>\n",
      "    * <Catalog id=2018>\n",
      "        * <Catalog id=10>\n",
      "          * <Item id=20181025_034420_0f4e>\n",
      "        * <Catalog id=11>\n",
      "          * <Item id=20181125_034649_0f28>\n",
      "        * <Catalog id=9>\n",
      "          * <Item id=20180924_034401_0f3f>\n",
      "        * <Catalog id=12>\n",
      "          * <Item id=20181227_034225_0f2b>\n"
     ]
    }
   ],
   "source": [
    "merged_collection.describe()"
   ]
  },
  {
   "cell_type": "markdown",
   "metadata": {},
   "source": [
    "We can now save our catalog to a new location and move all the assets into our new catalog."
   ]
  },
  {
   "cell_type": "code",
   "execution_count": 70,
   "metadata": {},
   "outputs": [],
   "source": [
    "merged_collection = merged_collection.normalize_hrefs(os.path.join(STAC_DIR, 'final'))"
   ]
  },
  {
   "cell_type": "code",
   "execution_count": 71,
   "metadata": {},
   "outputs": [],
   "source": [
    "merged_collection.normalize_hrefs(os.path.join(STAC_DIR, 'final'))\n",
    "merged_collection.save()"
   ]
  },
  {
   "cell_type": "markdown",
   "metadata": {},
   "source": [
    "Now that our catalog is in its final place, we'll move all the assets to be alongside their items."
   ]
  },
  {
   "cell_type": "code",
   "execution_count": 73,
   "metadata": {},
   "outputs": [],
   "source": [
    "final_catalog = stactools.core.move_all_assets(merged_collection, ignore_conflicts=True)"
   ]
  },
  {
   "cell_type": "markdown",
   "metadata": {},
   "source": [
    "We can make all the asset HREFs relative to have a more readable STAC JSON."
   ]
  },
  {
   "cell_type": "code",
   "execution_count": 75,
   "metadata": {},
   "outputs": [],
   "source": [
    "final_catalog.make_all_asset_hrefs_relative()"
   ]
  },
  {
   "cell_type": "code",
   "execution_count": 76,
   "metadata": {},
   "outputs": [],
   "source": [
    "final_catalog.save()"
   ]
  },
  {
   "cell_type": "markdown",
   "metadata": {},
   "source": [
    "Our final STAC is ready to be used and browsed by `stac browse`"
   ]
  },
  {
   "cell_type": "code",
   "execution_count": null,
   "metadata": {},
   "outputs": [],
   "source": []
  }
 ],
 "metadata": {
  "kernelspec": {
   "display_name": "Python 3",
   "language": "python",
   "name": "python3"
  },
  "language_info": {
   "codemirror_mode": {
    "name": "ipython",
    "version": 3
   },
   "file_extension": ".py",
   "mimetype": "text/x-python",
   "name": "python",
   "nbconvert_exporter": "python",
   "pygments_lexer": "ipython3",
   "version": "3.8.6"
  }
 },
 "nbformat": 4,
 "nbformat_minor": 2
}